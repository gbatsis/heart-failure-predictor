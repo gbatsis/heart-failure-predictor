{
 "cells": [
  {
   "cell_type": "markdown",
   "id": "6ffee0ae-bbc8-43b8-b979-cc8becb8ea23",
   "metadata": {},
   "source": [
    "# Health failure prediction using Machine Learning"
   ]
  },
  {
   "cell_type": "markdown",
   "id": "cd056e16-d21e-47af-807a-0903bf0fdef4",
   "metadata": {},
   "source": [
    "## Exploratory Data Analysis"
   ]
  },
  {
   "cell_type": "markdown",
   "id": "b159006f-906b-49a5-8a0e-a772896669a0",
   "metadata": {},
   "source": [
    "### Project setup"
   ]
  },
  {
   "cell_type": "code",
   "execution_count": null,
   "id": "5ae1335e-c1fd-4242-b7a5-2753b1229d8c",
   "metadata": {},
   "outputs": [],
   "source": [
    "import os\n",
    "import pandas as pd"
   ]
  },
  {
   "cell_type": "code",
   "execution_count": null,
   "id": "a7ccbb01-f78f-48f6-bb83-3b0bfefbd989",
   "metadata": {},
   "outputs": [],
   "source": [
    "# Dataset directory\n",
    "data_root = \"../../data/heart.csv\"\n",
    "\n",
    "# Models directory\n",
    "models_dir = \"../../models/\"\n",
    "os.makedirs(models_dir, exist_ok=True)"
   ]
  }
 ],
 "metadata": {
  "kernelspec": {
   "display_name": "Python 3 (ipykernel)",
   "language": "python",
   "name": "python3"
  },
  "language_info": {
   "codemirror_mode": {
    "name": "ipython",
    "version": 3
   },
   "file_extension": ".py",
   "mimetype": "text/x-python",
   "name": "python",
   "nbconvert_exporter": "python",
   "pygments_lexer": "ipython3",
   "version": "3.8.10"
  }
 },
 "nbformat": 4,
 "nbformat_minor": 5
}
